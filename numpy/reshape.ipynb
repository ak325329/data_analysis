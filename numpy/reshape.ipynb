{
 "cells": [
  {
   "cell_type": "code",
   "execution_count": 16,
   "metadata": {},
   "outputs": [],
   "source": [
    "import numpy as np"
   ]
  },
  {
   "cell_type": "code",
   "execution_count": 17,
   "metadata": {},
   "outputs": [
    {
     "name": "stdout",
     "output_type": "stream",
     "text": [
      "[[0 1 2 3 4]\n",
      " [5 6 7 8 9]]\n"
     ]
    }
   ],
   "source": [
    "a = np.arange(10).reshape(2,5)\n",
    "print(a)"
   ]
  },
  {
   "cell_type": "code",
   "execution_count": 18,
   "metadata": {},
   "outputs": [
    {
     "name": "stdout",
     "output_type": "stream",
     "text": [
      "[[ 1  2  3  4  5]\n",
      " [ 6  7  8  9 10]]\n"
     ]
    }
   ],
   "source": [
    "print(a+1)"
   ]
  },
  {
   "cell_type": "code",
   "execution_count": 19,
   "metadata": {},
   "outputs": [
    {
     "name": "stdout",
     "output_type": "stream",
     "text": [
      "[[0 1 2 3 4]\n",
      " [5 6 7 8 9]]\n",
      "------------------------------\n",
      "[[-0.72643111  1.01386506 -0.82540647  0.08087344  1.64379832]\n",
      " [ 0.13401312 -0.42781974  0.04882302  1.22445281  2.60248321]]\n",
      "------------------------------\n",
      "[[-0.72643111  2.01386506  1.17459353  3.08087344  5.64379832]\n",
      " [ 5.13401312  5.57218026  7.04882302  9.22445281 11.60248321]]\n"
     ]
    }
   ],
   "source": [
    "b = np.random.randn(2, 5)\n",
    "print(a)\n",
    "print('-'*30)\n",
    "print(b)\n",
    "print('-'*30)\n",
    "print(a+b)"
   ]
  },
  {
   "cell_type": "code",
   "execution_count": 20,
   "metadata": {},
   "outputs": [
    {
     "name": "stdout",
     "output_type": "stream",
     "text": [
      "[[[ 0  1]\n",
      "  [ 2  3]]\n",
      "\n",
      " [[ 4  5]\n",
      "  [ 6  7]]\n",
      "\n",
      " [[ 8  9]\n",
      "  [10 11]]]\n",
      "------------------------------\n",
      "[[0.05006043]\n",
      " [0.72471556]]\n",
      "------------------------------\n",
      "[[[ 0.05006043  1.05006043]\n",
      "  [ 2.72471556  3.72471556]]\n",
      "\n",
      " [[ 4.05006043  5.05006043]\n",
      "  [ 6.72471556  7.72471556]]\n",
      "\n",
      " [[ 8.05006043  9.05006043]\n",
      "  [10.72471556 11.72471556]]]\n"
     ]
    }
   ],
   "source": [
    "c = np.arange(12).reshape(3,2,2)\n",
    "d = np.random.randn(2,1)\n",
    "print(c)\n",
    "print('-'*30)\n",
    "print(d)\n",
    "print('-'*30)\n",
    "print(c+d)"
   ]
  }
 ],
 "metadata": {
  "kernelspec": {
   "display_name": "base",
   "language": "python",
   "name": "python3"
  },
  "language_info": {
   "codemirror_mode": {
    "name": "ipython",
    "version": 3
   },
   "file_extension": ".py",
   "mimetype": "text/x-python",
   "name": "python",
   "nbconvert_exporter": "python",
   "pygments_lexer": "ipython3",
   "version": "3.12.4"
  }
 },
 "nbformat": 4,
 "nbformat_minor": 2
}
