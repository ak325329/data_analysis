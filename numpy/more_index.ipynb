{
 "cells": [
  {
   "cell_type": "code",
   "execution_count": 1,
   "metadata": {},
   "outputs": [],
   "source": [
    "import numpy as np"
   ]
  },
  {
   "cell_type": "code",
   "execution_count": 5,
   "metadata": {},
   "outputs": [
    {
     "name": "stdout",
     "output_type": "stream",
     "text": [
      "[[ 0  1  2  3]\n",
      " [ 4  5  6  7]\n",
      " [ 8  9 10 11]\n",
      " [12 13 14 15]\n",
      " [16 17 18 19]\n",
      " [20 21 22 23]\n",
      " [24 25 26 27]\n",
      " [28 29 30 31]\n",
      " [32 33 34 35]]\n",
      "------------------------------\n",
      "[[16 17 18 19]\n",
      " [12 13 14 15]\n",
      " [ 0  1  2  3]\n",
      " [24 25 26 27]]\n"
     ]
    }
   ],
   "source": [
    "array = np.arange(36).reshape(9,4)\n",
    "print(array)\n",
    "print(\"-\"*30)\n",
    "print(array[[4, 3, 0, 6]])#兩層[]"
   ]
  },
  {
   "cell_type": "code",
   "execution_count": 9,
   "metadata": {},
   "outputs": [
    {
     "name": "stdout",
     "output_type": "stream",
     "text": [
      "[[ 0  1  2  3]\n",
      " [ 4  5  6  7]\n",
      " [ 8  9 10 11]\n",
      " [12 13 14 15]\n",
      " [16 17 18 19]\n",
      " [20 21 22 23]\n",
      " [24 25 26 27]\n",
      " [28 29 30 31]]\n",
      "------------------------------\n",
      "[ 4 23 29 10]\n"
     ]
    }
   ],
   "source": [
    "array = np.arange(32).reshape(8,4)\n",
    "print(array)\n",
    "print(\"-\"*30)\n",
    "read = array[[1, 5, 7, 2], [0, 3, 1, 2]]#取[1, 5],[5, 3],[7, 1],[2, 2]\n",
    "print(read)"
   ]
  },
  {
   "cell_type": "code",
   "execution_count": 11,
   "metadata": {},
   "outputs": [
    {
     "name": "stdout",
     "output_type": "stream",
     "text": [
      "[[ 0  1  2  3]\n",
      " [ 4  5  6  7]\n",
      " [ 8  9 10 11]\n",
      " [12 13 14 15]\n",
      " [16 17 18 19]\n",
      " [20 21 22 23]\n",
      " [24 25 26 27]\n",
      " [28 29 30 31]]\n",
      "------------------------------\n",
      "[[ 1  2]\n",
      " [ 5  6]\n",
      " [ 9 10]\n",
      " [13 14]\n",
      " [17 18]\n",
      " [21 22]\n",
      " [25 26]\n",
      " [29 30]]\n"
     ]
    }
   ],
   "source": [
    "print(array)\n",
    "print(\"-\"*30)\n",
    "print(array[:,[1, 2]])"
   ]
  },
  {
   "cell_type": "code",
   "execution_count": 15,
   "metadata": {},
   "outputs": [
    {
     "name": "stdout",
     "output_type": "stream",
     "text": [
      "[0 1 2 3 4 5 6 7 8 9]\n",
      "[[0 2]\n",
      " [1 3]]\n",
      "------------------------------\n",
      "[[0 2]\n",
      " [1 3]]\n"
     ]
    }
   ],
   "source": [
    "array = np.arange(10)\n",
    "index = np.array([[0, 2], [1, 3]])\n",
    "print(array)\n",
    "print(index)\n",
    "print(\"-\"*30)\n",
    "print(array[index])"
   ]
  },
  {
   "cell_type": "code",
   "execution_count": 25,
   "metadata": {},
   "outputs": [
    {
     "name": "stdout",
     "output_type": "stream",
     "text": [
      "[25 48 71 97 93 82 73 91 65 35]\n",
      "------------------------------\n",
      "[0 9 1 8 2 6 5 7 4 3]\n",
      "------------------------------\n",
      "[7 4 3]\n",
      "------------------------------\n",
      "max three are [91 93 97]\n"
     ]
    }
   ],
   "source": [
    "#取array中最大的前N個數\n",
    "array = np.random.randint(1,100,10)\n",
    "print(array)\n",
    "print(\"-\"*30)\n",
    "sort = array.argsort()\n",
    "print(sort)\n",
    "print(\"-\"*30)\n",
    "subscript = array.argsort()[-3:]\n",
    "print(subscript)\n",
    "print(\"-\"*30)\n",
    "max = array[subscript]\n",
    "print(f'max three are {max}')"
   ]
  }
 ],
 "metadata": {
  "kernelspec": {
   "display_name": "base",
   "language": "python",
   "name": "python3"
  },
  "language_info": {
   "codemirror_mode": {
    "name": "ipython",
    "version": 3
   },
   "file_extension": ".py",
   "mimetype": "text/x-python",
   "name": "python",
   "nbconvert_exporter": "python",
   "pygments_lexer": "ipython3",
   "version": "3.12.4"
  }
 },
 "nbformat": 4,
 "nbformat_minor": 2
}
