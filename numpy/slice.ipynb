{
 "cells": [
  {
   "cell_type": "code",
   "execution_count": 15,
   "metadata": {},
   "outputs": [],
   "source": [
    "import numpy as np"
   ]
  },
  {
   "cell_type": "code",
   "execution_count": 16,
   "metadata": {},
   "outputs": [
    {
     "name": "stdout",
     "output_type": "stream",
     "text": [
      "[0 1 2 3 4 5 6 7 8 9]\n",
      "[3 4 5 6 7 8]\n",
      "------------------------------\n",
      "[[ 0  1  2  3  4]\n",
      " [ 5  6  7  8  9]\n",
      " [10 11 12 13 14]\n",
      " [15 16 17 18 19]]\n",
      "0\n",
      "17\n",
      "[10 11 12 13 14]\n",
      "[15 16 17 18 19]\n",
      "[[ 0  1  2  3  4]\n",
      " [ 5  6  7  8  9]\n",
      " [10 11 12 13 14]]\n",
      "[[2 3]\n",
      " [7 8]]\n",
      "[ 2  7 12 17]\n"
     ]
    }
   ],
   "source": [
    "a = np.arange(10)\n",
    "A = np.arange(20).reshape(4,5)\n",
    "print(a)\n",
    "print(a[3:9])\n",
    "print('-'*30)\n",
    "\n",
    "\n",
    "print(A)\n",
    "print(A[0,0])\n",
    "print(A[-1,2])\n",
    "print(A[2])\n",
    "print(A[-1])\n",
    "print(A[0:-1])\n",
    "print(A[0:2,2:4])\n",
    "print(A[:,2])"
   ]
  }
 ],
 "metadata": {
  "kernelspec": {
   "display_name": "base",
   "language": "python",
   "name": "python3"
  },
  "language_info": {
   "codemirror_mode": {
    "name": "ipython",
    "version": 3
   },
   "file_extension": ".py",
   "mimetype": "text/x-python",
   "name": "python",
   "nbconvert_exporter": "python",
   "pygments_lexer": "ipython3",
   "version": "3.12.4"
  }
 },
 "nbformat": 4,
 "nbformat_minor": 2
}
