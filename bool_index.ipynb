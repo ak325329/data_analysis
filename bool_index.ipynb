{
 "cells": [
  {
   "cell_type": "code",
   "execution_count": 9,
   "metadata": {},
   "outputs": [],
   "source": [
    "import numpy as np"
   ]
  },
  {
   "cell_type": "code",
   "execution_count": 10,
   "metadata": {},
   "outputs": [
    {
     "name": "stdout",
     "output_type": "stream",
     "text": [
      "[0 1 2 3 4 5 6 7 8 9]\n",
      "[False False False False False False  True  True  True  True]\n",
      "[6 7 8 9]\n"
     ]
    }
   ],
   "source": [
    "array = np.arange(10)\n",
    "print(array)\n",
    "\n",
    "filter = array > 5\n",
    "print(filter)\n",
    "print(array[filter])"
   ]
  },
  {
   "cell_type": "code",
   "execution_count": 11,
   "metadata": {},
   "outputs": [
    {
     "name": "stdout",
     "output_type": "stream",
     "text": [
      "[0 1 2 3 4 5 6 7 8 9]\n",
      "------------------------------\n",
      "[0 0 0 0 0 0 1 1 1 1]\n"
     ]
    }
   ],
   "source": [
    "#10個數字，讓大於5的數字變為1，小於等於5的數字變為0\n",
    "print(array)\n",
    "print(\"-\"*30)\n",
    "array[array <= 5] = 0\n",
    "array[array > 5] = 1 \n",
    "print(array)"
   ]
  },
  {
   "cell_type": "code",
   "execution_count": 14,
   "metadata": {},
   "outputs": [
    {
     "name": "stdout",
     "output_type": "stream",
     "text": [
      "[0 1 2 3 4 5 6 7 8 9]\n",
      "------------------------------\n",
      "[  0   1   2   3   4   5 526 527 528 529]\n"
     ]
    }
   ],
   "source": [
    "#大於5的數字+520\n",
    "array = np.arange(10)\n",
    "print(array)\n",
    "print(\"-\"*30)\n",
    "array[array > 5] += 520\n",
    "print(array)"
   ]
  },
  {
   "cell_type": "code",
   "execution_count": 23,
   "metadata": {},
   "outputs": [
    {
     "name": "stdout",
     "output_type": "stream",
     "text": [
      "[[ 1  2  3  4  5]\n",
      " [ 6  7  8  9 10]\n",
      " [11 12 13 14 15]\n",
      " [16 17 18 19 20]]\n",
      "------------------------------\n",
      "[[False False False False False]\n",
      " [False False False False False]\n",
      " [ True  True  True  True  True]\n",
      " [ True  True  True  True  True]]\n",
      "[11 12 13 14 15 16 17 18 19 20]\n"
     ]
    }
   ],
   "source": [
    "array = np.arange(1,21).reshape(4,5)\n",
    "print(array)\n",
    "print(\"-\"*30)\n",
    "filter =  array > 10\n",
    "print(filter)\n",
    "print(array[filter])"
   ]
  },
  {
   "cell_type": "code",
   "execution_count": 29,
   "metadata": {},
   "outputs": [
    {
     "name": "stdout",
     "output_type": "stream",
     "text": [
      "[[ 1  2  3  4  5]\n",
      " [ 6  7  8  9 10]\n",
      " [11 12 13 14 15]\n",
      " [16 17 18 19 20]]\n",
      "------------------------------\n",
      "[ 4  9 14 19]\n",
      "------------------------------\n",
      "[[  1   2   3   4   5]\n",
      " [520 520 520 520 520]\n",
      " [520 520 520 520 520]\n",
      " [520 520 520 520 520]]\n"
     ]
    }
   ],
   "source": [
    "#只將第三個column變為520(有瑕疵)\n",
    "print(array)\n",
    "print(\"-\"*30)\n",
    "print(array[:, 3])\n",
    "print(\"-\"*30)\n",
    "filter = array[:, 3] > 5\n",
    "array[array[:,3] > 5] = 520\n",
    "print(array) #結果不如預期，這裡篩選的是bool值(F T T T)，所以使用array[filter]等同於[1: 4]\n",
    "\n"
   ]
  },
  {
   "cell_type": "code",
   "execution_count": 32,
   "metadata": {},
   "outputs": [
    {
     "name": "stdout",
     "output_type": "stream",
     "text": [
      "[[ 1  2  3  4  5]\n",
      " [ 6  7  8  9 10]\n",
      " [11 12 13 14 15]\n",
      " [16 17 18 19 20]]\n",
      "------------------------------\n",
      "[False  True  True  True]\n",
      "------------------------------\n",
      "[[  1   2   3   4   5]\n",
      " [  6   7   8 520  10]\n",
      " [ 11  12  13 520  15]\n",
      " [ 16  17  18 520  20]]\n"
     ]
    }
   ],
   "source": [
    "#只將第三個column變為520(正確)\n",
    "array = np.arange(1,21).reshape(4,5)\n",
    "print(array)\n",
    "print(\"-\"*30)\n",
    "filter = array[:, 3] > 5\n",
    "print(filter)\n",
    "print(\"-\"*30)\n",
    "array[:, 3][filter] = 520\n",
    "print(array)"
   ]
  },
  {
   "cell_type": "code",
   "execution_count": 36,
   "metadata": {},
   "outputs": [
    {
     "name": "stdout",
     "output_type": "stream",
     "text": [
      "[[10 20 30]\n",
      " [50 40 10]\n",
      " [10  1 10]]\n",
      "------------------------------\n",
      "[[False False  True]\n",
      " [ True  True False]\n",
      " [False False False]]\n",
      "[30 50 40]\n"
     ]
    }
   ],
   "source": [
    "array = np.array([[10, 20, 30], [50, 40, 10], [10, 1, 10]])\n",
    "print(array)\n",
    "print(\"-\"*30)\n",
    "filter = array > 25\n",
    "print(filter)\n",
    "print(array[filter])"
   ]
  },
  {
   "cell_type": "code",
   "execution_count": 40,
   "metadata": {},
   "outputs": [
    {
     "name": "stdout",
     "output_type": "stream",
     "text": [
      "[0 1 2 3 4 5 6 7 8 9]\n",
      "------------------------------\n",
      "[ True  True  True  True  True  True  True False  True False]\n",
      "[0 1 2 3 4 5 6 8]\n"
     ]
    }
   ],
   "source": [
    "#找出偶數 or 小於7的數\n",
    "array = np.arange(10)\n",
    "print(array)\n",
    "print(\"-\"*30)\n",
    "condition = (array <7) | (array % 2 == 0)\n",
    "print(condition)\n",
    "print(array[condition])"
   ]
  }
 ],
 "metadata": {
  "kernelspec": {
   "display_name": "base",
   "language": "python",
   "name": "python3"
  },
  "language_info": {
   "codemirror_mode": {
    "name": "ipython",
    "version": 3
   },
   "file_extension": ".py",
   "mimetype": "text/x-python",
   "name": "python",
   "nbconvert_exporter": "python",
   "pygments_lexer": "ipython3",
   "version": "3.12.4"
  }
 },
 "nbformat": 4,
 "nbformat_minor": 2
}
