{
 "cells": [
  {
   "cell_type": "code",
   "execution_count": 1,
   "metadata": {},
   "outputs": [],
   "source": [
    "import numpy as np"
   ]
  },
  {
   "cell_type": "code",
   "execution_count": 3,
   "metadata": {},
   "outputs": [
    {
     "name": "stdout",
     "output_type": "stream",
     "text": [
      "[1 2 3 4 5 6]\n",
      "(6,)\n",
      "1\n",
      "6\n",
      "int32\n"
     ]
    }
   ],
   "source": [
    "a = np.array([1,2,3,4,5,6])\n",
    "print(a)\n",
    "print(a.shape)\n",
    "print(a.ndim)\n",
    "print(a.size)\n",
    "print(a.dtype)"
   ]
  },
  {
   "cell_type": "code",
   "execution_count": 4,
   "metadata": {},
   "outputs": [
    {
     "name": "stdout",
     "output_type": "stream",
     "text": [
      "[[1 2 3]\n",
      " [4 5 6]]\n",
      "(2, 3)\n",
      "2\n",
      "6\n",
      "int32\n"
     ]
    }
   ],
   "source": [
    "b = np.array( [[1,2,3],[4,5,6]])\n",
    "print(b)\n",
    "print(b.shape)\n",
    "print(b.ndim)\n",
    "print(b.size)\n",
    "print(b.dtype)"
   ]
  },
  {
   "cell_type": "code",
   "execution_count": 6,
   "metadata": {},
   "outputs": [
    {
     "name": "stdout",
     "output_type": "stream",
     "text": [
      "[[1. 1. 1.]\n",
      " [1. 1. 1.]\n",
      " [1. 1. 1.]]\n"
     ]
    }
   ],
   "source": [
    "c = np.ones((3,3))\n",
    "print(c)"
   ]
  },
  {
   "cell_type": "code",
   "execution_count": 8,
   "metadata": {},
   "outputs": [
    {
     "name": "stdout",
     "output_type": "stream",
     "text": [
      "[[0. 0. 0.]\n",
      " [0. 0. 0.]\n",
      " [0. 0. 0.]]\n"
     ]
    }
   ],
   "source": [
    "d = np.zeros((3,3))\n",
    "print(d)"
   ]
  },
  {
   "cell_type": "code",
   "execution_count": 10,
   "metadata": {},
   "outputs": [
    {
     "name": "stdout",
     "output_type": "stream",
     "text": [
      "[[520 520 520]\n",
      " [520 520 520]\n",
      " [520 520 520]]\n"
     ]
    }
   ],
   "source": [
    "e = np.full((3,3), 520)\n",
    "print(e)"
   ]
  },
  {
   "cell_type": "code",
   "execution_count": 12,
   "metadata": {},
   "outputs": [
    {
     "name": "stdout",
     "output_type": "stream",
     "text": [
      "[[[1. 1. 1.]\n",
      "  [1. 1. 1.]\n",
      "  [1. 1. 1.]]\n",
      "\n",
      " [[1. 1. 1.]\n",
      "  [1. 1. 1.]\n",
      "  [1. 1. 1.]]]\n",
      "(2, 3, 3)\n",
      "3\n",
      "18\n",
      "float64\n"
     ]
    }
   ],
   "source": [
    "f = np.ones((2, 3, 3))\n",
    "print(f)\n",
    "print(f.shape)\n",
    "print(f.ndim)\n",
    "print(f.size)\n",
    "print(f.dtype)"
   ]
  },
  {
   "cell_type": "code",
   "execution_count": 16,
   "metadata": {},
   "outputs": [
    {
     "name": "stdout",
     "output_type": "stream",
     "text": [
      "[[1 2 3]\n",
      " [4 5 6]]\n",
      "[[1 1 1]\n",
      " [1 1 1]]\n",
      "[[0 0 0]\n",
      " [0 0 0]]\n",
      "[[520 520 520]\n",
      " [520 520 520]]\n"
     ]
    }
   ],
   "source": [
    "print(b)\n",
    "\n",
    "g = np.ones_like(b)\n",
    "print(g)\n",
    "\n",
    "h = np.zeros_like(b)\n",
    "print(h)\n",
    "\n",
    "i = np.full_like(b,520)\n",
    "print(i)"
   ]
  },
  {
   "cell_type": "code",
   "execution_count": 23,
   "metadata": {},
   "outputs": [
    {
     "name": "stdout",
     "output_type": "stream",
     "text": [
      "0.7527888760107703\n",
      "[ 0.83060993 -0.30484259 -0.28832188]\n",
      "[[-1.0404703  -2.38717108  0.28513285]\n",
      " [-2.08056249  0.51269068 -1.1361992 ]\n",
      " [ 0.45524511  0.75131979 -0.72232464]]\n",
      "[[[ 0.91741215 -1.15724396  0.05866211]\n",
      "  [-0.52300201  0.03452929  1.93735895]\n",
      "  [ 0.73765448  0.8804023  -1.53816825]]\n",
      "\n",
      " [[ 0.89561977  1.93440826 -1.45065153]\n",
      "  [ 2.27809748  0.66528331  0.22649337]\n",
      "  [-0.2431153   0.44239964 -0.53269591]]]\n"
     ]
    }
   ],
   "source": [
    "j = np.random.randn()\n",
    "print(j)\n",
    "\n",
    "k = np.random.randn(3)\n",
    "print(k)\n",
    "\n",
    "l = np.random.randn(3, 3)\n",
    "print(l)\n",
    "\n",
    "m = np.random.randn(2, 3, 3)\n",
    "print(m)"
   ]
  },
  {
   "cell_type": "code",
   "execution_count": 21,
   "metadata": {},
   "outputs": [
    {
     "name": "stdout",
     "output_type": "stream",
     "text": [
      "[0.60304784 1.28869525 1.26867482]\n"
     ]
    }
   ],
   "source": [
    "k = np.random.randn(3)\n",
    "print(k)"
   ]
  }
 ],
 "metadata": {
  "kernelspec": {
   "display_name": "base",
   "language": "python",
   "name": "python3"
  },
  "language_info": {
   "codemirror_mode": {
    "name": "ipython",
    "version": 3
   },
   "file_extension": ".py",
   "mimetype": "text/x-python",
   "name": "python",
   "nbconvert_exporter": "python",
   "pygments_lexer": "ipython3",
   "version": "3.12.4"
  }
 },
 "nbformat": 4,
 "nbformat_minor": 2
}
